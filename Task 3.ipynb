{
 "cells": [
  {
   "cell_type": "code",
   "execution_count": 29,
   "id": "30ff3f6e-a366-4de0-bd1d-fabacbfa0201",
   "metadata": {},
   "outputs": [],
   "source": [
    "import pandas as pd\n",
    "import numpy as np\n",
    "import requests\n",
    "from bs4 import BeautifulSoup\n",
    "import  lxml.html as html\n",
    "import re"
   ]
  },
  {
   "cell_type": "code",
   "execution_count": 3,
   "id": "c8b1d17c-cc1d-4b3c-9bd6-e902e831f949",
   "metadata": {},
   "outputs": [],
   "source": [
    "#The url of wikipedia page\n",
    "url = 'https://en.wikipedia.org/wiki/Demographics_of_Toronto_neighbourhoods'"
   ]
  },
  {
   "cell_type": "code",
   "execution_count": 4,
   "id": "d6a44b10-7a01-413e-aedc-0e6e7d96a23e",
   "metadata": {},
   "outputs": [],
   "source": [
    "r = requests.get(url)"
   ]
  },
  {
   "cell_type": "code",
   "execution_count": 6,
   "id": "b026f7a8-6071-4e1c-b8b5-705583a1a2c8",
   "metadata": {},
   "outputs": [
    {
     "data": {
      "text/plain": [
       "True"
      ]
     },
     "execution_count": 6,
     "metadata": {},
     "output_type": "execute_result"
    }
   ],
   "source": [
    "#If code ==200, we have a correct response from the url.\n",
    "r.status_code==200"
   ]
  },
  {
   "cell_type": "code",
   "execution_count": 13,
   "id": "66e9d2f3-add5-4dc6-a89e-c0907d1fdeed",
   "metadata": {},
   "outputs": [],
   "source": [
    "#Scraping the website\n",
    "soup = BeautifulSoup(r.text, 'lxml')"
   ]
  },
  {
   "cell_type": "code",
   "execution_count": 21,
   "id": "65e7275f-221b-4a15-be70-e385a827b953",
   "metadata": {},
   "outputs": [
    {
     "name": "stdout",
     "output_type": "stream",
     "text": [
      "Number of tables 5\n"
     ]
    }
   ],
   "source": [
    "tables = soup.find_all(\"table\",attrs = {'class':'wikitable'})\n",
    "print('Number of tables', len(tables))"
   ]
  },
  {
   "cell_type": "code",
   "execution_count": 39,
   "id": "615e7de2-795c-443e-b19d-c98c783d2f8f",
   "metadata": {},
   "outputs": [],
   "source": [
    "east_york = tables[0]"
   ]
  },
  {
   "cell_type": "code",
   "execution_count": 40,
   "id": "c6d86374-ea95-4022-8796-fdcaa19629fc",
   "metadata": {},
   "outputs": [],
   "source": [
    "body = east_york.find_all('tr')"
   ]
  },
  {
   "cell_type": "code",
   "execution_count": 41,
   "id": "bd48e08b-3b98-4387-ae24-3eb2b822644c",
   "metadata": {},
   "outputs": [],
   "source": [
    "#Columns names are the first item of the body list\n",
    "head = body[0]"
   ]
  },
  {
   "cell_type": "code",
   "execution_count": 26,
   "id": "6fdc3501-5d23-4136-bf4b-fd066166ccb1",
   "metadata": {},
   "outputs": [
    {
     "name": "stdout",
     "output_type": "stream",
     "text": [
      "['Name', 'FM', 'Census Tracts', 'Population', 'Land area (km2)', 'Density (people/km2)', '% Change in Population since 2001', 'Average Income', 'Transit Commuting\\xa0%', '% Renters', 'Second most common language (after English) by name', 'Second most common language (after English) by percentage', 'Map']\n"
     ]
    }
   ],
   "source": [
    "#Declare empty list to keep columns names\n",
    "headings = []\n",
    "for item in head.find_all('th'):\n",
    "    item = (item.text).rstrip('\\n')\n",
    "    #append the clean colummn name to headings\n",
    "    headings.append(item)\n",
    "print(headings)\n",
    "    "
   ]
  },
  {
   "cell_type": "code",
   "execution_count": 35,
   "id": "d6e2c0ee-90fc-4df1-a7b2-5cb5c6faa10b",
   "metadata": {},
   "outputs": [],
   "source": [
    "all_rows = [] # will be a list for list for all rows\n",
    "# Now loop for the other loops\n",
    "for i in range(len(tables)):\n",
    "    table = tables[i]\n",
    "    body = table.find_all('tr')\n",
    "    body_rows = body[1:]\n",
    "    for row_num in range(len(body_rows)): # A row at a time\n",
    "        row = [] # this will old entries for one row\n",
    "        for row_item in body_rows[row_num].find_all(\"td\"): #loop through all row entries\n",
    "            # row_item.text removes the tags from the entries\n",
    "            # the following regex is to remove \\xa0 and \\n and comma from row_item.text\n",
    "            # xa0 encodes the flag, \\n is the newline and comma separates thousands in numbers\n",
    "            aa = re.sub(\"(\\xa0)|(\\n)|,\",\"\",row_item.text)\n",
    "            #append aa to row - note one row entry is being appended\n",
    "            row.append(aa)\n",
    "        # append one row to all_rows\n",
    "        all_rows.append(row)"
   ]
  },
  {
   "cell_type": "code",
   "execution_count": 36,
   "id": "a32c7386-bf41-4503-8be5-d41da2f55989",
   "metadata": {},
   "outputs": [
    {
     "data": {
      "text/html": [
       "<div>\n",
       "<style scoped>\n",
       "    .dataframe tbody tr th:only-of-type {\n",
       "        vertical-align: middle;\n",
       "    }\n",
       "\n",
       "    .dataframe tbody tr th {\n",
       "        vertical-align: top;\n",
       "    }\n",
       "\n",
       "    .dataframe thead th {\n",
       "        text-align: right;\n",
       "    }\n",
       "</style>\n",
       "<table border=\"1\" class=\"dataframe\">\n",
       "  <thead>\n",
       "    <tr style=\"text-align: right;\">\n",
       "      <th></th>\n",
       "      <th>Name</th>\n",
       "      <th>FM</th>\n",
       "      <th>Census Tracts</th>\n",
       "      <th>Population</th>\n",
       "      <th>Land area (km2)</th>\n",
       "      <th>Density (people/km2)</th>\n",
       "      <th>% Change in Population since 2001</th>\n",
       "      <th>Average Income</th>\n",
       "      <th>Transit Commuting %</th>\n",
       "      <th>% Renters</th>\n",
       "      <th>Second most common language (after English) by name</th>\n",
       "      <th>Second most common language (after English) by percentage</th>\n",
       "      <th>Map</th>\n",
       "    </tr>\n",
       "  </thead>\n",
       "  <tbody>\n",
       "    <tr>\n",
       "      <th>0</th>\n",
       "      <td>Crescent Town</td>\n",
       "      <td>EY</td>\n",
       "      <td>0190.01</td>\n",
       "      <td>8157</td>\n",
       "      <td>0.4</td>\n",
       "      <td>20393</td>\n",
       "      <td>-10.0</td>\n",
       "      <td>23021</td>\n",
       "      <td>24.5</td>\n",
       "      <td>20.3</td>\n",
       "      <td>Bengali (18.1%)</td>\n",
       "      <td>18.1% Bengali</td>\n",
       "      <td></td>\n",
       "    </tr>\n",
       "    <tr>\n",
       "      <th>1</th>\n",
       "      <td>Governor's Bridge/Bennington Heights</td>\n",
       "      <td>EY</td>\n",
       "      <td>0186.00</td>\n",
       "      <td>2112</td>\n",
       "      <td>1.87</td>\n",
       "      <td>1129</td>\n",
       "      <td>4.0</td>\n",
       "      <td>129904</td>\n",
       "      <td>7.1</td>\n",
       "      <td>13.3</td>\n",
       "      <td>Polish (1.4%)</td>\n",
       "      <td>01.4% Polish</td>\n",
       "      <td></td>\n",
       "    </tr>\n",
       "    <tr>\n",
       "      <th>2</th>\n",
       "      <td>Leaside</td>\n",
       "      <td>EY</td>\n",
       "      <td>0195.00 0196.00</td>\n",
       "      <td>13876</td>\n",
       "      <td>2.81</td>\n",
       "      <td>4938</td>\n",
       "      <td>3.0</td>\n",
       "      <td>82670</td>\n",
       "      <td>9.7</td>\n",
       "      <td>10.5</td>\n",
       "      <td>Bulgarian (0.4%)</td>\n",
       "      <td>00.4% Bulgarian</td>\n",
       "      <td></td>\n",
       "    </tr>\n",
       "    <tr>\n",
       "      <th>3</th>\n",
       "      <td>O'Connor–Parkview</td>\n",
       "      <td>EY</td>\n",
       "      <td>0189.00 0190.02 0191.00 0192.00 0193.00</td>\n",
       "      <td>17740</td>\n",
       "      <td>4.94</td>\n",
       "      <td>3591</td>\n",
       "      <td>-6.1</td>\n",
       "      <td>33517</td>\n",
       "      <td>15.8</td>\n",
       "      <td>19.4</td>\n",
       "      <td>Urdu (3.2%)</td>\n",
       "      <td>03.2% Urdu</td>\n",
       "      <td></td>\n",
       "    </tr>\n",
       "    <tr>\n",
       "      <th>4</th>\n",
       "      <td>Old East York</td>\n",
       "      <td>EY</td>\n",
       "      <td>0180.00 0181.01 0181.02 0182.00 0183.00 0184.0...</td>\n",
       "      <td>52220</td>\n",
       "      <td>7.94</td>\n",
       "      <td>6577</td>\n",
       "      <td>-4.6</td>\n",
       "      <td>33172</td>\n",
       "      <td>22.0</td>\n",
       "      <td>19.1</td>\n",
       "      <td>Greek (4.3%)</td>\n",
       "      <td>04.3% Greek</td>\n",
       "      <td></td>\n",
       "    </tr>\n",
       "  </tbody>\n",
       "</table>\n",
       "</div>"
      ],
      "text/plain": [
       "                                   Name  FM  \\\n",
       "0                         Crescent Town  EY   \n",
       "1  Governor's Bridge/Bennington Heights  EY   \n",
       "2                               Leaside  EY   \n",
       "3                     O'Connor–Parkview  EY   \n",
       "4                         Old East York  EY   \n",
       "\n",
       "                                       Census Tracts Population  \\\n",
       "0                                            0190.01       8157   \n",
       "1                                            0186.00       2112   \n",
       "2                                    0195.00 0196.00      13876   \n",
       "3            0189.00 0190.02 0191.00 0192.00 0193.00      17740   \n",
       "4  0180.00 0181.01 0181.02 0182.00 0183.00 0184.0...      52220   \n",
       "\n",
       "  Land area (km2) Density (people/km2) % Change in Population since 2001  \\\n",
       "0             0.4                20393                             -10.0   \n",
       "1            1.87                 1129                               4.0   \n",
       "2            2.81                 4938                               3.0   \n",
       "3            4.94                 3591                              -6.1   \n",
       "4            7.94                 6577                              -4.6   \n",
       "\n",
       "  Average Income Transit Commuting % % Renters  \\\n",
       "0          23021                24.5      20.3   \n",
       "1         129904                 7.1      13.3   \n",
       "2          82670                 9.7      10.5   \n",
       "3          33517                15.8      19.4   \n",
       "4          33172                22.0      19.1   \n",
       "\n",
       "  Second most common language (after English) by name  \\\n",
       "0                                    Bengali (18.1%)    \n",
       "1                                      Polish (1.4%)    \n",
       "2                                   Bulgarian (0.4%)    \n",
       "3                                        Urdu (3.2%)    \n",
       "4                                       Greek (4.3%)    \n",
       "\n",
       "  Second most common language (after English) by percentage Map  \n",
       "0                                      18.1% Bengali             \n",
       "1                                       01.4% Polish             \n",
       "2                                    00.4% Bulgarian             \n",
       "3                                         03.2% Urdu             \n",
       "4                                        04.3% Greek             "
      ]
     },
     "execution_count": 36,
     "metadata": {},
     "output_type": "execute_result"
    }
   ],
   "source": [
    "# We can now use the data on all_rowsa and headings to make a table\n",
    "# all_rows becomes our data and headings the column names\n",
    "df = pd.DataFrame(data=all_rows,columns=headings)\n",
    "df.head()"
   ]
  },
  {
   "cell_type": "code",
   "execution_count": 43,
   "id": "7e4160bc-bc59-4b14-b9c7-1d142c1900c0",
   "metadata": {},
   "outputs": [
    {
     "name": "stdout",
     "output_type": "stream",
     "text": [
      "<class 'pandas.core.frame.DataFrame'>\n",
      "RangeIndex: 177 entries, 0 to 176\n",
      "Data columns (total 13 columns):\n",
      " #   Column                                                     Non-Null Count  Dtype \n",
      "---  ------                                                     --------------  ----- \n",
      " 0   Name                                                       177 non-null    object\n",
      " 1   FM                                                         177 non-null    object\n",
      " 2   Census Tracts                                              177 non-null    object\n",
      " 3   Population                                                 177 non-null    object\n",
      " 4   Land area (km2)                                            177 non-null    object\n",
      " 5   Density (people/km2)                                       177 non-null    object\n",
      " 6   % Change in Population since 2001                          177 non-null    object\n",
      " 7   Average Income                                             177 non-null    object\n",
      " 8   Transit Commuting %                                        177 non-null    object\n",
      " 9   % Renters                                                  177 non-null    object\n",
      " 10  Second most common language (after English) by name        177 non-null    object\n",
      " 11  Second most common language (after English) by percentage  177 non-null    object\n",
      " 12  Map                                                        177 non-null    object\n",
      "dtypes: object(13)\n",
      "memory usage: 18.1+ KB\n"
     ]
    }
   ],
   "source": [
    "df.info()"
   ]
  },
  {
   "cell_type": "code",
   "execution_count": 48,
   "id": "629b20d8-96de-45bc-99e7-cb78c038dbc5",
   "metadata": {},
   "outputs": [
    {
     "data": {
      "text/plain": [
       "174"
      ]
     },
     "execution_count": 48,
     "metadata": {},
     "output_type": "execute_result"
    }
   ],
   "source": [
    "#Use "
   ]
  },
  {
   "cell_type": "code",
   "execution_count": null,
   "id": "94f1eb78-5bca-45f8-b7c2-f7771a96c82e",
   "metadata": {},
   "outputs": [],
   "source": []
  }
 ],
 "metadata": {
  "kernelspec": {
   "display_name": "Python 3",
   "language": "python",
   "name": "python3"
  },
  "language_info": {
   "codemirror_mode": {
    "name": "ipython",
    "version": 3
   },
   "file_extension": ".py",
   "mimetype": "text/x-python",
   "name": "python",
   "nbconvert_exporter": "python",
   "pygments_lexer": "ipython3",
   "version": "3.7.10"
  }
 },
 "nbformat": 4,
 "nbformat_minor": 5
}
